{
 "cells": [
  {
   "cell_type": "markdown",
   "metadata": {},
   "source": [
    "## Day1\n",
    "\n",
    "https://adventofcode.com/2024/day/1"
   ]
  },
  {
   "cell_type": "code",
   "execution_count": 2,
   "metadata": {},
   "outputs": [
    {
     "name": "stdout",
     "output_type": "stream",
     "text": [
      "2580760\n"
     ]
    }
   ],
   "source": [
    "with open('inputs/day1.txt', 'r') as file:\n",
    "    # Split numbers into two separate lists\n",
    "    list1, list2 = zip(*(\n",
    "        map(int, row.strip().split())\n",
    "        for row in file\n",
    "    ))\n",
    "\n",
    "# Sort the lists\n",
    "sorted_list1 = sorted(list1)\n",
    "sorted_list2 = sorted(list2)\n",
    "# Calculate the total distance\n",
    "total_distance = sum(\n",
    "    abs(a - b) for a, b in zip(sorted_list1, sorted_list2)\n",
    ")\n",
    "\n",
    "print(total_distance)\n"
   ]
  },
  {
   "cell_type": "markdown",
   "metadata": {},
   "source": [
    "## Day 2\n",
    "\n",
    "https://adventofcode.com/2024/day/2"
   ]
  },
  {
   "cell_type": "code",
   "execution_count": 8,
   "metadata": {},
   "outputs": [
    {
     "name": "stdout",
     "output_type": "stream",
     "text": [
      "432\n"
     ]
    }
   ],
   "source": [
    "with open('inputs/day2.txt', 'r') as file:\n",
    "    reports = [[int(num) for num in row.strip().split()] for row in file]\n",
    "\n",
    "def is_valid(item):\n",
    "    return 0 < item <= 3 or -3 <= item < 0\n",
    "\n",
    "def is_safe(report):\n",
    "    diffs = [b - a for a, b in zip(report, report[1:])]\n",
    "    return (\n",
    "        all(0 < d <= 3 for d in diffs) or all(-3 <= d < 0 for d in diffs)\n",
    "    )\n",
    "\n",
    "num_of_safe_reports = sum(is_safe(report) for report in reports)\n",
    "print(num_of_safe_reports)"
   ]
  },
  {
   "cell_type": "markdown",
   "metadata": {},
   "source": [
    "## Day 3 \n",
    "\n",
    "https://adventofcode.com/2024/day/3"
   ]
  },
  {
   "cell_type": "code",
   "execution_count": 5,
   "metadata": {},
   "outputs": [
    {
     "name": "stdout",
     "output_type": "stream",
     "text": [
      "174960292\n"
     ]
    }
   ],
   "source": [
    "import re \n",
    "\n",
    "def mul(num1: int , num2: int) -> int:\n",
    "    return num1 * num2\n",
    "\n",
    "with open('inputs/day3.txt', 'r', encoding='utf-8') as file:\n",
    "    real_muls = re.findall(r'mul\\(\\d+,\\d+\\)', file.read())\n",
    "    print(sum(eval(real_mul) for real_mul in real_muls))"
   ]
  },
  {
   "cell_type": "code",
   "execution_count": null,
   "metadata": {},
   "outputs": [
    {
     "name": "stdout",
     "output_type": "stream",
     "text": [
      "56275602\n"
     ]
    }
   ],
   "source": [
    "import re \n",
    "\n",
    "def mul(num1: int , num2: int) -> int:\n",
    "    return num1 * num2\n",
    "\n",
    "with open('inputs/day3.txt', 'r', encoding='utf-8') as file:\n",
    "    # cut out all parts from don't to do()\n",
    "    clean_content = re.sub(r\"don't\\(.*?do\\(\\)\", \"\", file.read().replace(\"\\n\", \"\"))\n",
    "    real_muls = re.findall(r'mul\\(\\d+,\\d+\\)', clean_content)\n",
    "    print(sum(eval(real_mul) for real_mul in real_muls))\n"
   ]
  },
  {
   "cell_type": "code",
   "execution_count": null,
   "metadata": {},
   "outputs": [],
   "source": []
  }
 ],
 "metadata": {
  "kernelspec": {
   "display_name": "Python 3",
   "language": "python",
   "name": "python3"
  },
  "language_info": {
   "codemirror_mode": {
    "name": "ipython",
    "version": 3
   },
   "file_extension": ".py",
   "mimetype": "text/x-python",
   "name": "python",
   "nbconvert_exporter": "python",
   "pygments_lexer": "ipython3",
   "version": "3.9.6"
  }
 },
 "nbformat": 4,
 "nbformat_minor": 2
}
