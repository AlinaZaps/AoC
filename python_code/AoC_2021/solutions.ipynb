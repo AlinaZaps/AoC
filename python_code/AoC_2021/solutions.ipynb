{
 "cells": [
  {
   "cell_type": "markdown",
   "metadata": {},
   "source": [
    "## Day1\n",
    "https://adventofcode.com/2021/day/1"
   ]
  },
  {
   "cell_type": "code",
   "execution_count": null,
   "metadata": {},
   "outputs": [
    {
     "name": "stdout",
     "output_type": "stream",
     "text": [
      "1711\n"
     ]
    }
   ],
   "source": [
    "with open('inputs_2021/day1.txt', 'r') as file:\n",
    "    depths = [int(row.strip()) for row in file]\n",
    "\n",
    "measurement_increases = sum(\n",
    "    current > previous for previous, current in zip(depths, depths[1:])\n",
    ")\n",
    "\n",
    "print(measurement_increases)"
   ]
  },
  {
   "cell_type": "code",
   "execution_count": 22,
   "metadata": {},
   "outputs": [
    {
     "name": "stdout",
     "output_type": "stream",
     "text": [
      "1743\n"
     ]
    }
   ],
   "source": [
    "sliding_windows = [\n",
    "    sum(depths[i:i+3]) for i in range(len(depths) - 2)\n",
    "]\n",
    "\n",
    "sliding_windows_increaces = sum(\n",
    "    current > previous for previous, current in zip(sliding_windows, sliding_windows[1:])\n",
    ")\n",
    "print(sliding_windows_increaces)"
   ]
  },
  {
   "cell_type": "markdown",
   "metadata": {},
   "source": [
    "## Day2\n",
    "https://adventofcode.com/2021/day/2"
   ]
  },
  {
   "cell_type": "code",
   "execution_count": 38,
   "metadata": {},
   "outputs": [
    {
     "name": "stdout",
     "output_type": "stream",
     "text": [
      "2187380\n"
     ]
    }
   ],
   "source": [
    "position_changes = {}\n",
    "\n",
    "with open('inputs_2021/day2.txt', 'r') as file:\n",
    "    for row in file:\n",
    "        key, value = row.strip().split()\n",
    "        position_changes[key] = position_changes.get(key, 0) + int(value)\n",
    "\n",
    "print(position_changes['forward'] * (position_changes['down'] - position_changes['up']))"
   ]
  },
  {
   "cell_type": "code",
   "execution_count": null,
   "metadata": {},
   "outputs": [
    {
     "name": "stdout",
     "output_type": "stream",
     "text": [
      "defaultdict(<class 'int'>, {'forward': 1790, 'down': 1165563, 'aim': 1222})\n",
      "2086357770\n"
     ]
    }
   ],
   "source": [
    "from collections import defaultdict\n",
    "\n",
    "positions = defaultdict(int)\n",
    "\n",
    "with open('inputs_2021/day2.txt', 'r') as file:\n",
    "    for row in file:\n",
    "        key, value = row.strip().split()\n",
    "        value = int(value)\n",
    "        aim = 0\n",
    "\n",
    "        match key:\n",
    "            case 'down':\n",
    "                aim += value\n",
    "            case 'up':\n",
    "                aim -= value\n",
    "            case  'forward':\n",
    "                positions['forward'] += value\n",
    "                positions['down'] += aim * value\n",
    "\n",
    "print(positions)\n",
    "print(positions['forward'] * positions['down'])"
   ]
  },
  {
   "cell_type": "markdown",
   "metadata": {},
   "source": [
    "## Day3\n",
    "https://adventofcode.com/2021/day/3"
   ]
  },
  {
   "cell_type": "code",
   "execution_count": 116,
   "metadata": {},
   "outputs": [
    {
     "name": "stdout",
     "output_type": "stream",
     "text": [
      "693486\n"
     ]
    }
   ],
   "source": [
    "from collections import defaultdict\n",
    "\n",
    "positions = defaultdict(int)\n",
    "\n",
    "with open('inputs_2021/day3.txt', 'r') as file:\n",
    "    file_len = 0\n",
    "    for line in file:\n",
    "        file_len += 1\n",
    "        for i, bit in enumerate(line.strip()):\n",
    "            positions[i] += int(bit)\n",
    "\n",
    "threshold = file_len / 2\n",
    "\n",
    "gamma_rate, epsilon_rate = zip(*[\n",
    "    ('1', '0') if val >= threshold else ('0', '1') \n",
    "    for val in positions.values()\n",
    "])\n",
    "\n",
    "print(int(''.join(gamma_rate), 2) * int(''.join(epsilon_rate), 2))"
   ]
  },
  {
   "cell_type": "code",
   "execution_count": null,
   "metadata": {},
   "outputs": [
    {
     "name": "stdout",
     "output_type": "stream",
     "text": [
      "3379326\n"
     ]
    }
   ],
   "source": [
    "def parse_input(filepath: str) -> list[list[int]]:\n",
    "    \"\"\"Reads the input file and returns a list of lists of integers.\"\"\"\n",
    "    with open(filepath, 'r') as file:\n",
    "        return [list(map(int, line.strip())) for line in file]\n",
    "\n",
    "def find_rating(data: list[list[int]], is_gamma: bool) -> int:\n",
    "    bit_length = len(data[0])\n",
    "\n",
    "    for i in range(bit_length):\n",
    "        if len(data) == 1:\n",
    "            break\n",
    "        ones = sum(row[i] for row in data)\n",
    "        zeroes = len(data) - ones\n",
    "        if is_gamma:\n",
    "            keep_bit = 1 if ones >= zeroes else 0\n",
    "        else:\n",
    "            keep_bit = 0 if ones >= zeroes else 1\n",
    "        data = [row for row in data if row[i] == keep_bit]\n",
    "\n",
    "    return int(''.join(map(str, data[0])), 2)\n",
    "\n",
    "data = parse_input('inputs_2021/day3.txt')\n",
    "\n",
    "oxygen_rating = find_rating(data, True)\n",
    "co2_rating = find_rating(data, False)\n",
    "\n",
    "# Multiply and print\n",
    "print(oxygen_rating * co2_rating)"
   ]
  },
  {
   "cell_type": "markdown",
   "metadata": {},
   "source": [
    "## Day4\n",
    "https://adventofcode.com/2021/day/4"
   ]
  },
  {
   "cell_type": "code",
   "execution_count": 87,
   "metadata": {},
   "outputs": [],
   "source": [
    "def parse_input(filepath: str) -> list[list[int]]:\n",
    "    \"\"\"Reads the input file and returns a list of lists of integers.\"\"\"\n",
    "    with open(filepath) as f:\n",
    "        parts = f.read().strip().split('\\n\\n')\n",
    "\n",
    "    inputs = list(map(int, parts[0].split(',')))\n",
    "\n",
    "    boards = [\n",
    "        [list(map(int, row.split())) for row in block.splitlines()]\n",
    "        for block in parts[1:]\n",
    "    ]\n",
    "    return inputs, boards\n",
    "    \n",
    "\n",
    "inputs, boards_raw = parse_input('inputs_2021/day4.txt')\n"
   ]
  },
  {
   "cell_type": "code",
   "execution_count": null,
   "metadata": {},
   "outputs": [
    {
     "name": "stdout",
     "output_type": "stream",
     "text": [
      "Winner!\n",
      "Score: 97565\n"
     ]
    }
   ],
   "source": [
    "import numpy as np\n",
    "\n",
    "class BingoBoard:\n",
    "    def __init__(self, grid):\n",
    "        self.numbers = np.array(grid)\n",
    "        self.marked = np.zeros((5, 5), dtype=bool)\n",
    "\n",
    "    def mark(self, number):\n",
    "        self.marked |= (self.numbers == number)\n",
    "\n",
    "    @property\n",
    "    def is_winning(self):\n",
    "        return np.any(np.all(self.marked, axis=0)) or np.any(np.all(self.marked, axis=1))\n",
    "\n",
    "    @property\n",
    "    def unmarked_sum(self):\n",
    "        return np.sum(self.numbers[~self.marked])\n",
    "\n",
    "    def score(self, last_number):\n",
    "        return self.unmarked_sum * last_number\n",
    "\n",
    "boards = [BingoBoard(grid) for grid in boards_raw]\n",
    "\n",
    "for number in inputs:\n",
    "    for board in boards:\n",
    "        board.mark(number)\n",
    "        if board.is_winning:\n",
    "            print(\"Winner!\")\n",
    "            print(\"Score:\", board.score(number))\n",
    "            break\n",
    "    else:\n",
    "        continue\n",
    "    break"
   ]
  },
  {
   "cell_type": "code",
   "execution_count": null,
   "metadata": {},
   "outputs": [
    {
     "name": "stdout",
     "output_type": "stream",
     "text": [
      "Looser found!\n",
      "Looser's score is 1827\n"
     ]
    }
   ],
   "source": [
    "def find_last_winning_board(boards_raw, inputs) -> int:\n",
    "\n",
    "    remaining_boards = [BingoBoard(grid) for grid in boards_raw]\n",
    "\n",
    "    for number in inputs:\n",
    "        newly_won = []\n",
    "\n",
    "        for board in remaining_boards:\n",
    "            board.mark(number)\n",
    "            if board.is_winning:\n",
    "                if len(remaining_boards) == 1:\n",
    "                    print(\"Looser found!\")\n",
    "                    return board.score(number)\n",
    "                else:\n",
    "                    newly_won.append(board)\n",
    "\n",
    "        remaining_boards = [b for b in remaining_boards if b not in newly_won]\n",
    "\n",
    "print(f\"Looser's score is {find_last_winning_board(boards_raw, inputs)}\")"
   ]
  },
  {
   "cell_type": "markdown",
   "metadata": {},
   "source": [
    "## DAY5"
   ]
  },
  {
   "cell_type": "code",
   "execution_count": 27,
   "metadata": {},
   "outputs": [],
   "source": [
    "import numpy as np\n",
    "\n",
    "def parse_lines(filename):\n",
    "    with open(filename) as f:\n",
    "        for line in f:\n",
    "            x1, y1, x2, y2 = map(int, line.replace(' -> ', ',').split(','))\n",
    "            yield x1, y1, x2, y2\n",
    "\n",
    "def get_grid(lines, diagonals=False, size=1000):\n",
    "    grid = np.zeros((size, size), dtype=int)\n",
    "    for x1, y1, x2, y2 in lines:\n",
    "        dx = np.sign(x2 - x1)\n",
    "        dy = np.sign(y2 - y1)\n",
    "\n",
    "        length = max(abs(x2 - x1), abs(y2 - y1))\n",
    "        if not diagonals and dx != 0 and dy != 0:\n",
    "            continue\n",
    "\n",
    "        for i in range(length + 1):\n",
    "            grid[y1 + i * dy, x1 + i * dx] += 1\n",
    "    return grid\n"
   ]
  },
  {
   "cell_type": "code",
   "execution_count": 28,
   "metadata": {},
   "outputs": [
    {
     "name": "stdout",
     "output_type": "stream",
     "text": [
      "Part 1: 5092\n",
      "Part 2: 20484\n"
     ]
    }
   ],
   "source": [
    "lines = list(parse_lines('inputs_2021/day5.txt'))\n",
    "grid1 = get_grid(lines, diagonals=False)\n",
    "grid2 = get_grid(lines, diagonals=True)\n",
    "\n",
    "print(\"Part 1:\", np.sum(grid1 >= 2))\n",
    "print(\"Part 2:\", np.sum(grid2 >= 2))"
   ]
  },
  {
   "cell_type": "markdown",
   "metadata": {},
   "source": [
    "## DAY 6"
   ]
  },
  {
   "cell_type": "code",
   "execution_count": 1,
   "metadata": {},
   "outputs": [],
   "source": [
    "from collections import Counter\n",
    "\n",
    "# Parse input\n",
    "with open(\"inputs_2021/day6.txt\") as f:\n",
    "    lanternfishes = list(map(int, f.readline().strip().split(\",\")))\n",
    "\n",
    "def fish_simulation(fish_counts: dict, days_to_simulate: int):\n",
    "\n",
    "    fish_dict =  fish_counts.copy()\n",
    "    for _ in range(days_to_simulate):\n",
    "        next_day = Counter()\n",
    "        for timer, count in fish_dict.items():\n",
    "            if timer == 0:\n",
    "                next_day[6] += count\n",
    "                next_day[8] += count\n",
    "            else:\n",
    "                next_day[timer - 1] += count\n",
    "        fish_dict = next_day\n",
    "\n",
    "    # Final count\n",
    "    return sum(fish_dict.values())\n"
   ]
  },
  {
   "cell_type": "code",
   "execution_count": 2,
   "metadata": {},
   "outputs": [
    {
     "name": "stdout",
     "output_type": "stream",
     "text": [
      "345387\n",
      "1574445493136\n"
     ]
    }
   ],
   "source": [
    "fish_counts = Counter(lanternfishes)\n",
    "\n",
    "fish_after_80_days = fish_simulation(fish_counts, 80)\n",
    "fish_after_256_days = fish_simulation(fish_counts, 256)\n",
    "\n",
    "\n",
    "print(fish_after_80_days)\n",
    "print(fish_after_256_days)"
   ]
  },
  {
   "cell_type": "markdown",
   "metadata": {},
   "source": [
    "## DAY 7"
   ]
  },
  {
   "cell_type": "code",
   "execution_count": 38,
   "metadata": {},
   "outputs": [
    {
     "name": "stdout",
     "output_type": "stream",
     "text": [
      "364898\n"
     ]
    }
   ],
   "source": [
    "from collections import Counter\n",
    "\n",
    "with open('inputs_2021/day7.txt') as file:\n",
    "    positions = Counter(map(int, file.readline().strip().split(\",\")))\n",
    "\n",
    "low_consumption_costs = {\n",
    "    i: sum(abs(i - key) * value for key, value in positions.items())\n",
    "    for i in range(min(positions), max(positions) + 1)\n",
    "}\n",
    "\n",
    "print(min(low_consumption_costs.values()))\n"
   ]
  },
  {
   "cell_type": "code",
   "execution_count": 39,
   "metadata": {},
   "outputs": [
    {
     "name": "stdout",
     "output_type": "stream",
     "text": [
      "104149091\n"
     ]
    }
   ],
   "source": [
    "def triangular_number(n):\n",
    "    return n * (n + 1) // 2\n",
    "\n",
    "high_consumption_costs = {\n",
    "    i: sum(triangular_number(abs(i - key)) * value for key, value in positions.items())\n",
    "    for i in range(min(positions), max(positions) + 1)\n",
    "}\n",
    "\n",
    "print(min(high_consumption_costs.values()))"
   ]
  },
  {
   "cell_type": "markdown",
   "metadata": {},
   "source": [
    "## DAY 8 "
   ]
  },
  {
   "cell_type": "code",
   "execution_count": 11,
   "metadata": {},
   "outputs": [
    {
     "name": "stdout",
     "output_type": "stream",
     "text": [
      "318\n"
     ]
    }
   ],
   "source": [
    "with open('inputs_2021/day8.txt') as file:\n",
    "    signals = [\n",
    "        line.split(\"|\")[1].strip().split()\n",
    "        for line in file\n",
    "    ]\n",
    "\n",
    "uniques = sum(\n",
    "        1\n",
    "        for segments in signals\n",
    "        for segment in segments\n",
    "        if len(segment) in [2, 3, 4, 7]\n",
    "    )\n",
    "\n",
    "print(uniques)"
   ]
  },
  {
   "cell_type": "code",
   "execution_count": 82,
   "metadata": {},
   "outputs": [
    {
     "name": "stdout",
     "output_type": "stream",
     "text": [
      "996280\n"
     ]
    }
   ],
   "source": [
    "from dataclasses import dataclass\n",
    "\n",
    "@dataclass\n",
    "class SignalEntry:\n",
    "    patterns: list[frozenset]\n",
    "    outputs: list[frozenset]\n",
    "    \n",
    "\n",
    "def decode(signal: SignalEntry) -> int:\n",
    "    # Group patterns by their length for fast access\n",
    "    patterns_by_length = {length: [] for length in range(2, 8)}\n",
    "    for p in signal.patterns:\n",
    "        patterns_by_length[len(p)].append(p)\n",
    "\n",
    "    one = patterns_by_length[2][0]\n",
    "    four = patterns_by_length[4][0]\n",
    "    seven = patterns_by_length[3][0]\n",
    "    eight = patterns_by_length[7][0]\n",
    "\n",
    "    # Find three: 5-segment pattern containing one\n",
    "    three = next(p for p in patterns_by_length[5] if one <= p)\n",
    "    # Find nine: 6-segment pattern containing four\n",
    "    nine = next(p for p in patterns_by_length[6] if four <= p)\n",
    "    # Find five: 5-segment pattern containing (four - one) and not three\n",
    "    bd = four - one\n",
    "    five = next(p for p in patterns_by_length[5] if bd <= p and p != three)\n",
    "    # Find two: the remaining 5-segment pattern\n",
    "    two = next(p for p in patterns_by_length[5] if p not in {three, five})\n",
    "    # Find six: 6-segment pattern that doesn't fully contain one and is not nine\n",
    "    six = next(p for p in patterns_by_length[6] if not (one <= p) and p != nine)\n",
    "    # Find zero: the remaining 6-segment pattern\n",
    "    zero = next(p for p in patterns_by_length[6] if p not in {six, nine})\n",
    "    # Build the decoder\n",
    "    decoder = {\n",
    "        zero: 0,\n",
    "        one: 1,\n",
    "        two: 2,\n",
    "        three: 3,\n",
    "        four: 4,\n",
    "        five: 5,\n",
    "        six: 6,\n",
    "        seven: 7,\n",
    "        eight: 8,\n",
    "        nine: 9,\n",
    "    }\n",
    "\n",
    "    # Decode the output\n",
    "    output_value = int(\"\".join(str(decoder[o]) for o in signal.outputs))\n",
    "    return output_value\n",
    "\n",
    "signals = []\n",
    "with open('inputs_2021/day8.txt') as file:\n",
    "    for line in file:\n",
    "        left, right = line.strip().split(\"|\")\n",
    "\n",
    "        outputs = [frozenset(segment) for segment in right.strip().split()]\n",
    "        patterns = [frozenset(segment) for segment in left.strip().split()]\n",
    "\n",
    "        signals.append(SignalEntry(patterns=patterns, outputs=outputs))\n",
    "\n",
    "total = sum(decode(signal) for signal in signals)\n",
    "print(total)"
   ]
  },
  {
   "cell_type": "code",
   "execution_count": null,
   "metadata": {},
   "outputs": [
    {
     "name": "stdout",
     "output_type": "stream",
     "text": [
      "996280\n"
     ]
    }
   ],
   "source": [
    "from itertools import permutations\n",
    "\n",
    "# Canonical digits - real wiring\n",
    "REAL_DIGITS = {\n",
    "    frozenset('abcefg'): 0,\n",
    "    frozenset('cf'): 1,\n",
    "    frozenset('acdeg'): 2,\n",
    "    frozenset('acdfg'): 3,\n",
    "    frozenset('bcdf'): 4,\n",
    "    frozenset('abdfg'): 5,\n",
    "    frozenset('abdefg'): 6,\n",
    "    frozenset('acf'): 7,\n",
    "    frozenset('abcdefg'): 8,\n",
    "    frozenset('abcdfg'): 9,\n",
    "}\n",
    "\n",
    "def decode(signal: SignalEntry) -> int:\n",
    "    scrambled_patterns = signal.patterns\n",
    "\n",
    "    for perm in permutations('abcdefg'):\n",
    "        mapping = {scrambled: real for scrambled, real in zip(perm, 'abcdefg')}\n",
    "\n",
    "        # Remap all scrambled patterns\n",
    "        remapped = [\n",
    "            frozenset(mapping[char] for char in pattern)\n",
    "            for pattern in scrambled_patterns\n",
    "        ]\n",
    "\n",
    "        if all(pattern in REAL_DIGITS for pattern in remapped):\n",
    "            # Found correct mapping\n",
    "            pattern_to_digit = {pattern: digit for pattern, digit in REAL_DIGITS.items()}\n",
    "\n",
    "            decoded_number = int(\n",
    "                \"\".join(\n",
    "                    str(pattern_to_digit[frozenset(mapping[c] for c in output)])\n",
    "                    for output in signal.outputs\n",
    "                )\n",
    "            )\n",
    "            return decoded_number\n",
    "\n",
    "    raise ValueError(\"No valid mapping found!\")\n",
    "\n",
    "signals = []\n",
    "with open('inputs_2021/day8.txt') as file:\n",
    "    for line in file:\n",
    "        left, right = line.strip().split(\"|\")\n",
    "\n",
    "        outputs = [frozenset(segment) for segment in right.strip().split()]\n",
    "        patterns = [frozenset(segment) for segment in left.strip().split()]\n",
    "\n",
    "        signals.append(SignalEntry(patterns=patterns, outputs=outputs))\n",
    "\n",
    "total = sum(decode(signal) for signal in signals)\n",
    "print(total)"
   ]
  }
 ],
 "metadata": {
  "kernelspec": {
   "display_name": "Python 3",
   "language": "python",
   "name": "python3"
  },
  "language_info": {
   "codemirror_mode": {
    "name": "ipython",
    "version": 3
   },
   "file_extension": ".py",
   "mimetype": "text/x-python",
   "name": "python",
   "nbconvert_exporter": "python",
   "pygments_lexer": "ipython3",
   "version": "3.13.3"
  }
 },
 "nbformat": 4,
 "nbformat_minor": 2
}
