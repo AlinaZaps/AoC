{
 "cells": [
  {
   "cell_type": "markdown",
   "metadata": {},
   "source": [
    "## Day1\n",
    "https://adventofcode.com/2021/day/1"
   ]
  },
  {
   "cell_type": "code",
   "execution_count": null,
   "metadata": {},
   "outputs": [
    {
     "name": "stdout",
     "output_type": "stream",
     "text": [
      "1711\n"
     ]
    }
   ],
   "source": [
    "with open('inputs_2021/day1.txt', 'r') as file:\n",
    "    depths = [int(row.strip()) for row in file]\n",
    "\n",
    "measurement_increases = sum(\n",
    "    current > previous for previous, current in zip(depths, depths[1:])\n",
    ")\n",
    "\n",
    "print(measurement_increases)"
   ]
  },
  {
   "cell_type": "code",
   "execution_count": 22,
   "metadata": {},
   "outputs": [
    {
     "name": "stdout",
     "output_type": "stream",
     "text": [
      "1743\n"
     ]
    }
   ],
   "source": [
    "sliding_windows = [\n",
    "    sum(depths[i:i+3]) for i in range(len(depths) - 2)\n",
    "]\n",
    "\n",
    "sliding_windows_increaces = sum(\n",
    "    current > previous for previous, current in zip(sliding_windows, sliding_windows[1:])\n",
    ")\n",
    "print(sliding_windows_increaces)"
   ]
  },
  {
   "cell_type": "markdown",
   "metadata": {},
   "source": [
    "## Day2\n",
    "https://adventofcode.com/2021/day/2"
   ]
  },
  {
   "cell_type": "code",
   "execution_count": 38,
   "metadata": {},
   "outputs": [
    {
     "name": "stdout",
     "output_type": "stream",
     "text": [
      "2187380\n"
     ]
    }
   ],
   "source": [
    "position_changes = {}\n",
    "\n",
    "with open('inputs_2021/day2.txt', 'r') as file:\n",
    "    for row in file:\n",
    "        key, value = row.strip().split()\n",
    "        position_changes[key] = position_changes.get(key, 0) + int(value)\n",
    "\n",
    "print(position_changes['forward'] * (position_changes['down'] - position_changes['up']))"
   ]
  },
  {
   "cell_type": "code",
   "execution_count": null,
   "metadata": {},
   "outputs": [
    {
     "name": "stdout",
     "output_type": "stream",
     "text": [
      "defaultdict(<class 'int'>, {'forward': 1790, 'down': 1165563, 'aim': 1222})\n",
      "2086357770\n"
     ]
    }
   ],
   "source": [
    "from collections import defaultdict\n",
    "\n",
    "positions = defaultdict(int)\n",
    "\n",
    "with open('inputs_2021/day2.txt', 'r') as file:\n",
    "    for row in file:\n",
    "        key, value = row.strip().split()\n",
    "        value = int(value)\n",
    "        aim = 0\n",
    "\n",
    "        match key:\n",
    "            case 'down':\n",
    "                aim += value\n",
    "            case 'up':\n",
    "                aim -= value\n",
    "            case  'forward':\n",
    "                positions['forward'] += value\n",
    "                positions['down'] += aim * value\n",
    "\n",
    "print(positions)\n",
    "print(positions['forward'] * positions['down'])"
   ]
  },
  {
   "cell_type": "markdown",
   "metadata": {},
   "source": [
    "## Day3\n",
    "https://adventofcode.com/2021/day/3"
   ]
  },
  {
   "cell_type": "code",
   "execution_count": 116,
   "metadata": {},
   "outputs": [
    {
     "name": "stdout",
     "output_type": "stream",
     "text": [
      "693486\n"
     ]
    }
   ],
   "source": [
    "from collections import defaultdict\n",
    "\n",
    "positions = defaultdict(int)\n",
    "\n",
    "with open('inputs_2021/day3.txt', 'r') as file:\n",
    "    file_len = 0\n",
    "    for line in file:\n",
    "        file_len += 1\n",
    "        for i, bit in enumerate(line.strip()):\n",
    "            positions[i] += int(bit)\n",
    "\n",
    "threshold = file_len / 2\n",
    "\n",
    "gamma_rate, epsilon_rate = zip(*[\n",
    "    ('1', '0') if val >= threshold else ('0', '1') \n",
    "    for val in positions.values()\n",
    "])\n",
    "\n",
    "print(int(''.join(gamma_rate), 2) * int(''.join(epsilon_rate), 2))"
   ]
  },
  {
   "cell_type": "code",
   "execution_count": null,
   "metadata": {},
   "outputs": [
    {
     "name": "stdout",
     "output_type": "stream",
     "text": [
      "3379326\n"
     ]
    }
   ],
   "source": [
    "def parse_input(filepath: str) -> list[list[int]]:\n",
    "    \"\"\"Reads the input file and returns a list of lists of integers.\"\"\"\n",
    "    with open(filepath, 'r') as file:\n",
    "        return [list(map(int, line.strip())) for line in file]\n",
    "\n",
    "def find_rating(data: list[list[int]], is_gamma: bool) -> int:\n",
    "    bit_length = len(data[0])\n",
    "\n",
    "    for i in range(bit_length):\n",
    "        if len(data) == 1:\n",
    "            break\n",
    "        ones = sum(row[i] for row in data)\n",
    "        zeroes = len(data) - ones\n",
    "        if is_gamma:\n",
    "            keep_bit = 1 if ones >= zeroes else 0\n",
    "        else:\n",
    "            keep_bit = 0 if ones >= zeroes else 1\n",
    "        data = [row for row in data if row[i] == keep_bit]\n",
    "\n",
    "    return int(''.join(map(str, data[0])), 2)\n",
    "\n",
    "data = parse_input('inputs_2021/day3.txt')\n",
    "\n",
    "oxygen_rating = find_rating(data, True)\n",
    "co2_rating = find_rating(data, False)\n",
    "\n",
    "# Multiply and print\n",
    "print(oxygen_rating * co2_rating)"
   ]
  },
  {
   "cell_type": "markdown",
   "metadata": {},
   "source": [
    "## Day4\n",
    "https://adventofcode.com/2021/day/4"
   ]
  },
  {
   "cell_type": "code",
   "execution_count": 124,
   "metadata": {},
   "outputs": [
    {
     "name": "stdout",
     "output_type": "stream",
     "text": [
      "['79,9,13,43,53,51,40,47,56,27,0,14,33,60,61,36,72,48,83,42,10,86,41,75,16,80,15,93,95,45,68,96,84,11,85,63,18,31,35,74,71,91,39,88,55,6,21,12,58,29,69,37,44,98,89,78,17,64,59,76,54,30,65,82,28,50,32,77,66,24,1,70,92,23,8,49,38,73,94,26,22,34,97,25,87,19,57,7,2,3,46,67,90,62,20,5,52,99,81,4', ' 7 42 22 92 60\\n 8 88 99 13 12\\n16 62 86 24 77\\n20 57 19 67 46\\n36 83 54 63 82', ' 7 86 50 78 16\\n83 45 67 94 58\\n21 98 99 85 43\\n71 19 31 22  4\\n70 51 34 11 61', ' 4 95 84 51 36\\n43 40 37 23 85\\n14 90  8 59 99\\n 0 88 68 93 81\\n25  6 55 19 48', '15 39 78  6 13\\n71  3 81 95 62\\n22 46 67 72 40\\n89 69  0 37 41\\n68 79 58 16 42', '63 50 77 34 12\\n29 42 20 17 47\\n80 10 30 72 66\\n 5 89 64 25 21\\n91 88 45 44 37', '78 89 32 26 56\\n 8 40 54 25 49\\n36 30 21 23  3\\n12 58  2 29  7\\n33 99 15 84 44', '96 68 56 49 43\\n55 22 16 91 32\\n 2 17 61 12 37\\n25 72  1 31 88\\n57 34 42  8 71', '18 39 86 94 60\\n96 85 64 51 28\\n48 14 23 36 35\\n 6 84 99 90 81\\n43 41 74 68 32', ' 9 58 60  7 61\\n96 33 67  0 19\\n77  2 14 99 79\\n13 36 90 95 29\\n86 91 49 72 20', ' 3 79 24 37 97\\n86 10 77 31 32\\n48 89 35 73 94\\n65 21 23 82 36\\n26 51 69 12 99', '66 28 73  6 32\\n11 30 35 42 76\\n33 40 25 89 52\\n46 88 55 50 64\\n86 71 75 36 80', '36 34 35 68 49\\n61  3 24 84 71\\n47 42 91 39 80\\n25 51 38 59 62\\n90 21 28 52  8', '19 93 45 40 55\\n41 11 79  9 70\\n16 87 32 22 94\\n12  4 72 60  0\\n36 77 78 33 83', '43 44  7 39 96\\n30 75 62 63  8\\n19 12 40 68 45\\n50 27  3 52 57\\n85 67 33 16 36', '33 16 66  9  7\\n93 34 52 31 13\\n 3 49 94 39 37\\n76 59 78 51 83\\n40 47 22 42 73', '44 60 52  7 38\\n36 53 79 11 93\\n46 65 40 68 58\\n67 73 99 31 87\\n22 49 33 59 75', '83 61 17 60 86\\n38 33 96 75 22\\n19 42 76 55 97\\n93 94 29 50 88\\n34 16 91  3 40', '92 48 40 69 98\\n12 46 37 25 78\\n43 11 34 22 32\\n 0 18 17 86  1\\n89 26 65 76 96', '66 48 43 99 98\\n68  2 51 87 38\\n72 77 47 20 97\\n36 18 80 10 96\\n88 53 30 65 91', '10  3 65 38 56\\n40 14 64 45 23\\n42 88 31 85 17\\n19 83 46 51  5\\n35 47 28  0 50', '75 53  9  1 29\\n92 94 41 82 38\\n39 70 80 11 56\\n64 28 27 22 60\\n66 97 48 65 71', '91 17 37 49 83\\n66  1 79 87 60\\n78 46 32 30 57\\n50 56 23  6 24\\n13 89 42 70 77', '59 28 58 56 73\\n22  4 53 91 23\\n 8 41 36 52 80\\n30 68 34 70 63\\n90  3 61 98  1', '50 76 99 74 81\\n57 25 59 69 96\\n26 15 43 64 44\\n73 18 61 91 23\\n87 13 46 90 60', '63  1 77 93 47\\n12 90 56 46  0\\n57 73 79 87 43\\n32 13 53 37 14\\n22  3 23 78 69', '49 55 93 57  2\\n67 12 81 70 79\\n60 44 94 23 54\\n48 92 99  1 82\\n76 36 62 32 98', '94 15 97 55 17\\n39 40 84 92 49\\n72 45 52 95 96\\n61 58 88 23 78\\n80 48 37 35 66', '86 88 20 12  7\\n72 52 95 34 11\\n 1 47 83 63 18\\n25 35 76 15 92\\n96 64 82 54 31', '61 83  5 24 36\\n88 80 48 26 85\\n 2 42 70 98 45\\n27  6 65 94 15\\n71 73  3 47 38', '85 49 19 41 53\\n 4 99 43 93 60\\n34 28 78 23 50\\n54 79 35 25 94\\n27 63 16 51 39', '89 49 13  1 32\\n85 87  8 38 64\\n14  5 63 16 27\\n23 76 43 59 94\\n78 80 83 15 54', '26 66 73 74 64\\n 9 81 62 75 25\\n46 13 55 43  1\\n 0  2 10 58 34\\n76 11 82 42 16', '68 93 18 99 84\\n96 25 44 69 97\\n24 80 74 27  6\\n33 14 54 17 28\\n10 47  2 63 59', '12 56 29 63  0\\n30 94  5 19 18\\n 9 13 24 72 60\\n91 46 49 47 51\\n 8 54 26  7 21', '36 16 26 97 56\\n22 86 58 94 89\\n66 84 50 82 53\\n87 29 45 95 33\\n49 61 46  2 52', '87 35 65 27 69\\n12 98 94 18 26\\n22 79  1 74 84\\n 0 72 29 70 19\\n96 28 95 25 77', '79 95  3 91 44\\n57 61 77 80 29\\n 6 49 37 62 16\\n71 73 21 52 48\\n92 17 32  2 43', '29 78  6 94 47\\n83 63 68 16 56\\n38 85 92 60 35\\n81 57 75 79  7\\n69 22 93 49  4', '93 21  2 17 22\\n76 70  3 80 51\\n 7 88 14  0 61\\n18 16 29 86 74\\n65 47  8 45 46', ' 1 20 23 79 14\\n27 76  3 90 85\\n88 35  7 10 92\\n67 97 59 41  8\\n56 57 65 45 81', '57 14 41 89 55\\n47 75 90 23 94\\n26  3 40 17 97\\n65 44 12  4 30\\n16 81 64 79 13', '63  3 22  7 10\\n36 76 14 77 38\\n48 27 40  9 60\\n31 56 75 74 78\\n86 64 71 90 67', '52 28  9 19 66\\n15 86 61  2 89\\n93  3 44 46 91\\n11  7  5 32 72\\n60 10 92 29 88', '88 86 59  8 68\\n10 48 12 61 21\\n54 97 45 55 11\\n67  9 22 64  5\\n 7 34 32 69 44', '69 45 14  6  3\\n16 32 33 26 73\\n79 30  5  1 72\\n64  9 60 59 22\\n23 56 37 41  2', '25 65 60 87 39\\n41 53 24 91 93\\n43 59 26 78 96\\n16 33 88 18  7\\n74 63 34 30 20', '38 23 97 73 35\\n51 31 90 98 80\\n56 44 60  8  7\\n71 10 87  0 99\\n64 30 20 22 18', '61 57 31 69 74\\n94  0 96 90 59\\n21  3 72 81  4\\n43 41 58 45  2\\n62  7 65 71 19', '60 20 19 48 11\\n 2 68 58 91 76\\n57 12 52 29 13\\n42 53 38 64 81\\n26 70 16 32 54', '15 93 68 77 49\\n80 64 45 10 94\\n30 62  5 66 40\\n46 51 52 22 56\\n 7 90 14  6 47', '75 87 31 24 11\\n47 61 14 69 50\\n33 44 12 26 58\\n91 10 35  5 29\\n99 81 16 92 53', '50 37 47 13 83\\n63 96 30 36 86\\n72 66 93 73 74\\n98 60  3 84 28\\n52 14 70 21 55', '65 19 32 28 92\\n 9  8 51  0 98\\n56 26 53 13 86\\n 2 70 16 52  4\\n69 10 97 38 79', '34 48 46 66 44\\n59 19 18 20 13\\n99 26 62 16  2\\n91 25 11 84  4\\n52 31 70 71 14', '92  1 49 65 77\\n85  8 27 87 84\\n41 73 81 15 58\\n14 93 33 17 52\\n35 90 37 38  0', '11 46  2 20 31\\n97 50 12 79 96\\n89 77 57 61 40\\n65 75  4 33 17\\n66 81 47 83 98', '34 57 44  0 99\\n32 25 17 48 90\\n27 73 63 61 81\\n50 22  4 28 41\\n 6 24 70 13 45', '96 18 36 16 10\\n37 11 50 56 88\\n80 40 75 90 12\\n19 43 33 61 58\\n30 59 99 69 98', '31 77 98 90 51\\n34 10 80 73 97\\n 2 37 33 17  0\\n59 78 91 87 45\\n86  7 44 64  1', '26 49 66 13 16\\n95 89 52 88 55\\n77 60  3 93 73\\n64 45 98 38 42\\n34 86  1 71 68', '59 71 24 18 99\\n23 28 88 54 26\\n90 37  6 76  4\\n41 64 27 89 67\\n29 95 82 83 60', ' 8  0 90 41 61\\n29 66  2 35 13\\n12  9  5 36 93\\n67 94 82 77 37\\n30 42 32 80 78', '53  6 23 57 38\\n 8 25 76 18 15\\n19 17 20 48 72\\n26 54 64  7 40\\n50 94 82 67 99', '93  5 67 10  4\\n77 80 97 14  2\\n34  9 61 24 21\\n63 89 28 76 62\\n54 29 38 68 69', '72 48 66 89 22\\n63 39 71 59 68\\n 2 95 94 21 92\\n 6 28 44 62 15\\n35 78 80 11 91', '82  8 59 66 25\\n84 87 95 60 12\\n 9 52 83 28 49\\n23 34 85 94 96\\n43 41 39  2 73', '81 56 55 29 70\\n94 96  7 90  2\\n95 45 28 75 12\\n48 83 65 22 91\\n68 98  5 41 73', '36 22 45 14 74\\n35 60 54 15 30\\n86 49 27 82  4\\n87  2 52 50 21\\n39 62 40  1 19', '99  7 85 24 65\\n26 17 36 35  1\\n 2 62 38 45 48\\n72 68 32 59 11\\n28 53 64 21 76', '61 63 94 50 55\\n34 42 39 66 37\\n22 72 18 89 12\\n16 23  4  0 41\\n75 64  3 44  5', '87 82 53  5 19\\n26 54 36  1 38\\n28 30 48 97 95\\n34 91 99 23  8\\n46 35 33 29 66', '76 89 94 77 58\\n24 31  1 40 25\\n44 71 42 61  8\\n16 41 28 33 50\\n 6 85 66 43 51', '91 28 70 89 43\\n 1 76 26 90 45\\n24  2  6 82 23\\n77 68 16 51 81\\n58 86 52 29 18', '95  0 25 19 91\\n10 65 30 72 42\\n41  8 77 58 23\\n94 60 34 11 67\\n24  1 64 78 44', '40 76 21 37 15\\n44 26 80 77 88\\n25 72 38 34  9\\n75 81 43 86 68\\n59 30 87 61 73', ' 0 63 62 82 93\\n70 61 14 56  3\\n54 43 92 78 27\\n26  7 99 77 73\\n21 30 44 50 40', ' 2 60 45 17 73\\n75 67 68 20 18\\n16 30 24 37 12\\n79 50  8 65 19\\n85 95 54 90 47', '69 68 54 66 17\\n39 19 20 33 44\\n12 27 50 60 36\\n53 81  8  7 87\\n82 97 18  4 74', '58 63  8 42 28\\n70 95 39 54 61\\n30 56 79 37 82\\n15 32 83 27 45\\n52 13 90 97 62', '11 50 56 66 84\\n96 94 57 17 49\\n68 58 90 34 59\\n81 36 91  8 45\\n62 35  6 93 48', '82 89 54 87 80\\n94  6 45 53 62\\n31 34 58 85 77\\n24 25 91 99 26\\n41  0 59 37 23', '93 41 53 31 87\\n 7 22 39 86 73\\n71 34 60 57  6\\n52 64 48 99 90\\n66 76 62 45 40', ' 5 84 85 67 26\\n11  1  0 95 21\\n48 59 43 94 62\\n22 74 40 49 89\\n51 20 90 78 96', ' 0 45 43 79 25\\n41 10 95 86 80\\n 4 60 82 33 75\\n44 46 38 17 76\\n22 58 27 73 66', '54 50  7 92 79\\n11 43 38 94  5\\n63 80 33 58  4\\n12 91 28 70 97\\n26 99 41 52 90', '23 26 95  8 17\\n73 77 61 89 82\\n78 80 64 19 96\\n81 92 47 44 59\\n54 24 63 74 32', '86 85 37 80 45\\n47 44 92 29 49\\n67 48 95 51 88\\n36  8 56 16 30\\n 0 97 84 24 13', '81 61 42 87 92\\n30 75 17 67  2\\n83 44 96 52  1\\n37 78 31 15 19\\n40  9 72  7 28', '10 85 17 38 22\\n46 35 90 12 27\\n76 42  7  2 30\\n55 57 60  9 49\\n79 73 97  1 21', '52 36 11 82 91\\n22  7 46 21 12\\n62 42 66 68 10\\n31 18 76 20 84\\n28 79 61 39 86', '73 99 34 54 45\\n43 28 18 76 40\\n57 58 63  9 11\\n89 65  2 12 90\\n38 97 49 15 27', '28 84 24 17 49\\n33 69 75 53 92\\n81 48 89 19 34\\n59  1 18 72 79\\n 6 22  2 86 85', '72 78 30 40 19\\n54 16 25 81 28\\n41 99  7 79 14\\n83 76 29  8 91\\n 5 60 11 51 37', '77 78 34 59 29\\n62 69 54  8 97\\n80 53 25 66 85\\n81 90 31 51 52\\n63 41 57 68 18', '43 62 11 41  7\\n37 44 34 10 51\\n67 36 61 77 70\\n59  1 25 42 88\\n29 71 60 15 24', '30 65 57 35 84\\n34 33 72 73 28\\n38 51  4 52 14\\n58 59 85 87 39\\n88 81 11 93 71', '19  5 23 71 75\\n70  9 57 69 14\\n49 29 22 28 10\\n42 48 63 73  6\\n79 18  4 39 88', '16 27 31 88 86\\n29 40 65 68 39\\n15 95 93 69 22\\n66 48 18 84 11\\n 7 51 92 96 99', ' 0 69 51 12 82\\n 4 81 62  2 49\\n27 66 95 83 70\\n94 97 99 63 19\\n87 75 77 73 44', '82 83 75 95 53\\n46 47 31 14 64\\n71 70 11 51 87\\n 7 16 63 38 29\\n89 13 33 41  0']\n"
     ]
    }
   ],
   "source": [
    "def parse_input(filepath: str) -> list[list[int]]:\n",
    "    \"\"\"Reads the input file and returns a list of lists of integers.\"\"\"\n",
    "    with open(filepath) as f:\n",
    "        parts = f.read().strip().split('\\n\\n')\n",
    "\n",
    "    print(parts)\n",
    "    inputs = list(map(int, parts[0].split(',')))\n",
    "\n",
    "    boards = [\n",
    "        [list(map(int, row.split())) for row in block.splitlines()]\n",
    "        for block in parts[1:]\n",
    "    ]\n",
    "    return inputs, boards\n",
    "    \n",
    "\n",
    "inputs, boards_raw = parse_input('inputs_2021/day4.txt')\n"
   ]
  },
  {
   "cell_type": "code",
   "execution_count": null,
   "metadata": {},
   "outputs": [
    {
     "name": "stdout",
     "output_type": "stream",
     "text": [
      "Winner!\n",
      "Score: 97565\n"
     ]
    }
   ],
   "source": [
    "import numpy as np\n",
    "\n",
    "class BingoBoard:\n",
    "    def __init__(self, grid):\n",
    "        self.numbers = np.array(grid)\n",
    "        self.marked = np.zeros((5, 5), dtype=bool)\n",
    "\n",
    "    def mark(self, number):\n",
    "        self.marked |= (self.numbers == number)\n",
    "\n",
    "    @property\n",
    "    def is_winning(self):\n",
    "        return np.any(np.all(self.marked, axis=0)) or np.any(np.all(self.marked, axis=1))\n",
    "\n",
    "    @property\n",
    "    def unmarked_sum(self):\n",
    "        return np.sum(self.numbers[~self.marked])\n",
    "\n",
    "    def score(self, last_number):\n",
    "        return self.unmarked_sum * last_number\n",
    "\n",
    "boards = [BingoBoard(grid) for grid in boards_raw]\n",
    "\n",
    "for number in inputs:\n",
    "    for board in boards:\n",
    "        board.mark(number)\n",
    "        if board.is_winning:\n",
    "            print(\"Winner!\")\n",
    "            print(\"Score:\", board.score(number))\n",
    "            break\n",
    "    else:\n",
    "        continue\n",
    "    break"
   ]
  },
  {
   "cell_type": "code",
   "execution_count": null,
   "metadata": {},
   "outputs": [
    {
     "name": "stdout",
     "output_type": "stream",
     "text": [
      "Looser found!\n",
      "Looser's score is 1827\n"
     ]
    }
   ],
   "source": [
    "def find_last_winning_board(boards_raw, inputs) -> int:\n",
    "\n",
    "    remaining_boards = [BingoBoard(grid) for grid in boards_raw]\n",
    "\n",
    "    for number in inputs:\n",
    "        newly_won = []\n",
    "\n",
    "        for board in remaining_boards:\n",
    "            board.mark(number)\n",
    "            if board.is_winning:\n",
    "                if len(remaining_boards) == 1:\n",
    "                    print(\"Looser found!\")\n",
    "                    return board.score(number)\n",
    "                else:\n",
    "                    newly_won.append(board)\n",
    "\n",
    "        remaining_boards = [b for b in remaining_boards if b not in newly_won]\n",
    "\n",
    "print(f\"Looser's score is {find_last_winning_board(boards_raw, inputs)}\")"
   ]
  },
  {
   "cell_type": "markdown",
   "metadata": {},
   "source": [
    "## DAY5"
   ]
  },
  {
   "cell_type": "code",
   "execution_count": 5,
   "metadata": {},
   "outputs": [],
   "source": [
    "import numpy as np\n",
    "import matplotlib.pyplot as plt\n",
    "\n",
    "\n",
    "def parse_lines(filename):\n",
    "    with open(filename) as f:\n",
    "        for line in f:\n",
    "            x1, y1, x2, y2 = map(int, line.replace(' -> ', ',').split(','))\n",
    "            yield x1, y1, x2, y2\n",
    "\n",
    "def get_grid(lines, diagonals=False, size=1000):\n",
    "    grid = np.zeros((size, size), dtype=int)\n",
    "    for x1, y1, x2, y2 in lines:\n",
    "        dx = np.sign(x2 - x1)\n",
    "        dy = np.sign(y2 - y1)\n",
    "\n",
    "        length = max(abs(x2 - x1), abs(y2 - y1))\n",
    "        if not diagonals and dx != 0 and dy != 0:\n",
    "            continue\n",
    "\n",
    "        for i in range(length + 1):\n",
    "            grid[y1 + i * dy, x1 + i * dx] += 1\n",
    "    return grid\n"
   ]
  },
  {
   "cell_type": "code",
   "execution_count": 6,
   "metadata": {},
   "outputs": [
    {
     "name": "stdout",
     "output_type": "stream",
     "text": [
      "Part 1: 5092\n",
      "Part 2: 20484\n"
     ]
    }
   ],
   "source": [
    "lines = list(parse_lines('inputs_2021/day5.txt'))\n",
    "grid1 = get_grid(lines, diagonals=False)\n",
    "grid2 = get_grid(lines, diagonals=True)\n",
    "\n",
    "print(\"Part 1:\", np.sum(grid1 >= 2))\n",
    "print(\"Part 2:\", np.sum(grid2 >= 2))"
   ]
  },
  {
   "cell_type": "markdown",
   "metadata": {},
   "source": [
    "## DAY 6"
   ]
  },
  {
   "cell_type": "code",
   "execution_count": 1,
   "metadata": {},
   "outputs": [],
   "source": [
    "from collections import Counter\n",
    "\n",
    "# Parse input\n",
    "with open(\"inputs_2021/day6.txt\") as f:\n",
    "    lanternfishes = list(map(int, f.readline().strip().split(\",\")))\n",
    "\n",
    "def fish_simulation(fish_counts: dict, days_to_simulate: int):\n",
    "\n",
    "    fish_dict =  fish_counts.copy()\n",
    "    for _ in range(days_to_simulate):\n",
    "        next_day = Counter()\n",
    "        for timer, count in fish_dict.items():\n",
    "            if timer == 0:\n",
    "                next_day[6] += count\n",
    "                next_day[8] += count\n",
    "            else:\n",
    "                next_day[timer - 1] += count\n",
    "        fish_dict = next_day\n",
    "\n",
    "    # Final count\n",
    "    return sum(fish_dict.values())\n"
   ]
  },
  {
   "cell_type": "code",
   "execution_count": 2,
   "metadata": {},
   "outputs": [
    {
     "name": "stdout",
     "output_type": "stream",
     "text": [
      "345387\n",
      "1574445493136\n"
     ]
    }
   ],
   "source": [
    "fish_counts = Counter(lanternfishes)\n",
    "\n",
    "fish_after_80_days = fish_simulation(fish_counts, 80)\n",
    "fish_after_256_days = fish_simulation(fish_counts, 256)\n",
    "\n",
    "\n",
    "print(fish_after_80_days)\n",
    "print(fish_after_256_days)"
   ]
  },
  {
   "cell_type": "code",
   "execution_count": null,
   "metadata": {},
   "outputs": [],
   "source": []
  }
 ],
 "metadata": {
  "kernelspec": {
   "display_name": "Python 3",
   "language": "python",
   "name": "python3"
  },
  "language_info": {
   "codemirror_mode": {
    "name": "ipython",
    "version": 3
   },
   "file_extension": ".py",
   "mimetype": "text/x-python",
   "name": "python",
   "nbconvert_exporter": "python",
   "pygments_lexer": "ipython3",
   "version": "3.13.0"
  }
 },
 "nbformat": 4,
 "nbformat_minor": 2
}
