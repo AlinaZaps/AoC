{
 "cells": [
  {
   "cell_type": "markdown",
   "metadata": {},
   "source": [
    "## Day1\n",
    "\n",
    "https://adventofcode.com/2024/day/1"
   ]
  },
  {
   "cell_type": "code",
   "execution_count": 2,
   "metadata": {},
   "outputs": [
    {
     "name": "stdout",
     "output_type": "stream",
     "text": [
      "2580760\n"
     ]
    }
   ],
   "source": [
    "with open('inputs/day1.txt', 'r') as file:\n",
    "    # Split numbers into two separate lists\n",
    "    list1, list2 = zip(*(\n",
    "        map(int, row.strip().split())\n",
    "        for row in file\n",
    "    ))\n",
    "\n",
    "# Sort the lists\n",
    "sorted_list1 = sorted(list1)\n",
    "sorted_list2 = sorted(list2)\n",
    "# Calculate the total distance\n",
    "total_distance = sum(\n",
    "    abs(a - b) for a, b in zip(sorted_list1, sorted_list2)\n",
    ")\n",
    "\n",
    "print(total_distance)\n"
   ]
  },
  {
   "cell_type": "markdown",
   "metadata": {},
   "source": [
    "## Day 2\n",
    "\n",
    "https://adventofcode.com/2024/day/2"
   ]
  },
  {
   "cell_type": "code",
   "execution_count": 8,
   "metadata": {},
   "outputs": [
    {
     "name": "stdout",
     "output_type": "stream",
     "text": [
      "432\n"
     ]
    }
   ],
   "source": [
    "with open('inputs/day2.txt', 'r') as file:\n",
    "    reports = [[int(num) for num in row.strip().split()] for row in file]\n",
    "\n",
    "def is_valid(item):\n",
    "    return 0 < item <= 3 or -3 <= item < 0\n",
    "\n",
    "def is_safe(report):\n",
    "    diffs = [b - a for a, b in zip(report, report[1:])]\n",
    "    return (\n",
    "        all(0 < d <= 3 for d in diffs) or all(-3 <= d < 0 for d in diffs)\n",
    "    )\n",
    "\n",
    "num_of_safe_reports = sum(is_safe(report) for report in reports)\n",
    "print(num_of_safe_reports)"
   ]
  },
  {
   "cell_type": "markdown",
   "metadata": {},
   "source": [
    "## Day 3 \n",
    "\n",
    "https://adventofcode.com/2024/day/3"
   ]
  },
  {
   "cell_type": "code",
   "execution_count": 5,
   "metadata": {},
   "outputs": [
    {
     "name": "stdout",
     "output_type": "stream",
     "text": [
      "174960292\n"
     ]
    }
   ],
   "source": [
    "import re \n",
    "\n",
    "def mul(num1: int , num2: int) -> int:\n",
    "    return num1 * num2\n",
    "\n",
    "with open('inputs/day3.txt', 'r', encoding='utf-8') as file:\n",
    "    real_muls = re.findall(r'mul\\(\\d+,\\d+\\)', file.read())\n",
    "    print(sum(eval(real_mul) for real_mul in real_muls))"
   ]
  },
  {
   "cell_type": "code",
   "execution_count": null,
   "metadata": {},
   "outputs": [
    {
     "name": "stdout",
     "output_type": "stream",
     "text": [
      "56275602\n"
     ]
    }
   ],
   "source": [
    "import re \n",
    "\n",
    "def mul(num1: int , num2: int) -> int:\n",
    "    return num1 * num2\n",
    "\n",
    "with open('inputs/day3.txt', 'r', encoding='utf-8') as file:\n",
    "    # cut out all parts from don't to do()\n",
    "    clean_content = re.sub(r\"don't\\(.*?do\\(\\)\", \"\", file.read().replace(\"\\n\", \"\"))\n",
    "    real_muls = re.findall(r'mul\\(\\d+,\\d+\\)', clean_content)\n",
    "    print(sum(eval(real_mul) for real_mul in real_muls))\n"
   ]
  },
  {
   "cell_type": "markdown",
   "metadata": {},
   "source": [
    "### DAY 4\n",
    "\n",
    "https://adventofcode.com/2024/day/4"
   ]
  },
  {
   "cell_type": "code",
   "execution_count": 159,
   "metadata": {},
   "outputs": [
    {
     "name": "stdout",
     "output_type": "stream",
     "text": [
      "2633\n"
     ]
    }
   ],
   "source": [
    "import numpy as np\n",
    "import re \n",
    "\n",
    "def matrix_reverse_rows(matrix: any):\n",
    "    \"\"\"Reverse the order of items in each row of the matrix.\"\"\"\n",
    "    return np.flip(matrix, 1)\n",
    "\n",
    "def diagonals_matrix(matrix: any):\n",
    "    \"\"\"Extract all diagonals (left-to-right and right-to-left) from the matrix.\"\"\"\n",
    "    rows, cols = matrix.shape\n",
    "    return [\n",
    "        matrix.diagonal(i).tolist() for i in range(cols-1,-rows,-1)\n",
    "    ] + [\n",
    "        matrix[::-1,:].diagonal(i).tolist() for i in range(cols-1,-rows,-1)\n",
    "        ]\n",
    "\n",
    "\n",
    "with open('inputs/day4.txt', 'r') as file:\n",
    "    rows_matrix = np.array([list(row.strip()) for row in file])\n",
    "    flipped_rows = matrix_reverse_rows(rows_matrix)\n",
    "    diagonals = diagonals_matrix(rows_matrix) + diagonals_matrix(flipped_rows)\n",
    "    \n",
    "    all_possible_options = rows_matrix.tolist() + rows_matrix.T.tolist() + flipped_rows.tolist() + matrix_reverse_rows(rows_matrix.T).tolist() + diagonals\n",
    "\n",
    "\n",
    "\"\"\"Count occurrences of a pattern in all rows, columns, and diagonals of a matrix.\"\"\"\n",
    "print(sum(len(re.findall(r'XMAS', ('').join(lst))) for lst in all_possible_options))\n",
    "\n"
   ]
  },
  {
   "cell_type": "code",
   "execution_count": null,
   "metadata": {},
   "outputs": [
    {
     "name": "stdout",
     "output_type": "stream",
     "text": [
      "1936\n"
     ]
    }
   ],
   "source": [
    "from skimage.util.shape import view_as_windows\n",
    "\n",
    "x_mas = ['MSAMS', 'SMASM', 'SSAMM', 'MMASS']\n",
    "positions = [(0, 0), (0, 2), (1, 1), (2, 0), (2, 2)]\n",
    "\n",
    "\n",
    "with open('inputs/day4.txt', 'r') as file:\n",
    "    rows_matrix = np.array([list(row.strip()) for row in file])\n",
    "\n",
    "sub_arrays = view_as_windows(rows_matrix, window_shape=(3, 3))\n",
    "# Flatten the 4D array into a list of 3D arrays\n",
    "flattened_sub_arrays = sub_arrays.reshape(-1, *sub_arrays.shape[2:])\n",
    "sub_strs = [''.join(''.join(sub_array[row, col]) for row, col in positions) for sub_array in flattened_sub_arrays]\n",
    "\n",
    "count = sum(1 for sub_str in sub_strs if sub_str in x_mas)\n",
    "print(count)"
   ]
  },
  {
   "cell_type": "markdown",
   "metadata": {},
   "source": [
    "### DAY 5\n",
    "\n",
    "https://adventofcode.com/2024/day/5"
   ]
  },
  {
   "cell_type": "code",
   "execution_count": null,
   "metadata": {},
   "outputs": [],
   "source": []
  }
 ],
 "metadata": {
  "kernelspec": {
   "display_name": "Python 3",
   "language": "python",
   "name": "python3"
  },
  "language_info": {
   "codemirror_mode": {
    "name": "ipython",
    "version": 3
   },
   "file_extension": ".py",
   "mimetype": "text/x-python",
   "name": "python",
   "nbconvert_exporter": "python",
   "pygments_lexer": "ipython3",
   "version": "3.9.6"
  }
 },
 "nbformat": 4,
 "nbformat_minor": 2
}
